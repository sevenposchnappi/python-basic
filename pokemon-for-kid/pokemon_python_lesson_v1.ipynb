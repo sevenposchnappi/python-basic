{
 "cells": [
  {
   "cell_type": "markdown",
   "id": "ce8811c4",
   "metadata": {},
   "source": [
    "# 🎴 Python 程式入門：打造你的寶可夢卡牌"
   ]
  },
  {
   "cell_type": "markdown",
   "id": "08f8f03d-f13a-49af-bb3c-f360c168095d",
   "metadata": {},
   "source": [
    "| 時長        | 時間 (分鐘)     | 主題                 | 教學內容摘要                                       |\n",
    "|----------- | ----------- | ------------------ | -------------------------------------------- |\n",
    "| 10 | **0–10**    | 開場與主題介紹            | 認識 Python 與課程目標，說明今天要用程式打造寶可夢卡牌              |\n",
    "| 10 | **10–20**   | 變數 & 算術運算子         | 建立基本數值與文字、操作攻擊力與血量，學會 `+ - * /`              |\n",
    "| 15 | **20–35**   | 字串操作與多重指定          | 用 `+` 合併文字、用 `%s` 和 `f-string` 印出寶可夢資訊       |\n",
    "| 15 | **35–50**   | List 與 Dictionary  | 用 list 做卡組、用 dict 建卡牌，練習增刪查改與 list 長度        |\n",
    "| 10 | **50–60**   | 條件判斷 & 關係運算子       | 使用 `if/elif/else` 判斷勝負，學會 `== != > <` 等關係運算子 |\n",
    "| 10 | **60–70**   | ☕ 中場休息 + 問答        | —                                            |\n",
    "| 15 | **70–85**   | For 迴圈與 While 迴圈   | 用 `for` 顯示卡組內容、用 `while` 做訓練迴圈、自動升級          |\n",
    "| 10 | **85–95**   | Try & Except 錯誤處理  | 輸入數值時防錯，處理 `input()` + `int()` 的錯誤           |\n",
    "| 15 | **95–110**  | 函式（User-defined）   | 寫出 `train(pokemon)` 功能，介紹 `def`、參數與 `return` |\n",
    "| 10 | **110–120** | OOP：Class 與 Object | 用 `class` 建立寶可夢卡牌物件，加上方法如 `show()`、`train()` |train()` |\n"
   ]
  },
  {
   "cell_type": "markdown",
   "id": "df8f9d3f",
   "metadata": {},
   "source": [
    "\n",
    "歡迎來到寶可夢卡牌訓練營！  \n",
    "今天你將學會如何用 Python 撰寫程式，建立屬於你自己的寶可夢卡牌！  \n",
    "以下是我們的學習旅程：\n",
    "- 建立變數\n",
    "- 字串與數字處理\n",
    "- 使用 list 與 dictionary 管理卡牌資料\n",
    "- 寫出「如果...就...」的程式邏輯\n",
    "- 使用迴圈重複動作\n",
    "- 處理錯誤狀況\n",
    "- 建立自己的函式\n",
    "- 最後，打造出屬於你的寶可夢物件 🧬\n"
   ]
  },
  {
   "cell_type": "markdown",
   "id": "abdf1d69-7e6d-4e8d-9d59-95ea93ef29c8",
   "metadata": {},
   "source": [
    "# 1️⃣ 變數與算術運算子"
   ]
  },
  {
   "cell_type": "markdown",
   "id": "5720fb4a-f1e9-471c-b1a4-904baf1f4b96",
   "metadata": {},
   "source": [
    "## 1.1 變數\n",
    "\n",
    "#### 什麼是變數? 為什麼要變數?\n",
    "#### 變數是用來儲存資料的容器，可以隨時修改或使用。\n",
    "#### 變數的命名規則：只能包含字母、數字和底線，不能以數字開頭，且不能使用 Python 的保留字。"
   ]
  },
  {
   "cell_type": "code",
   "execution_count": 1,
   "id": "772c229c1a2361f3",
   "metadata": {
    "ExecuteTime": {
     "end_time": "2025-07-22T14:22:00.843631Z",
     "start_time": "2025-07-22T14:22:00.820629Z"
    }
   },
   "outputs": [
    {
     "name": "stdout",
     "output_type": "stream",
     "text": [
      "就決定是你了，「皮卡丘」!!\n",
      "「皮卡丘」攻擊力是「50」。\n",
      "「皮卡丘」防禦是「80」。\n",
      "「皮卡丘」血量是「100」。\n",
      "「皮卡丘」受到10點傷害，血量變成 「90」。\n",
      "「皮卡球」受到10點傷害，血量變成 「80」。\n",
      "「皮卡丘」受到10點傷害，血量變成 「70」。\n",
      "「皮卡丘」受到50點傷害，血量變成 「20」。\n"
     ]
    }
   ],
   "source": [
    "# 什麼是變數? 為什麼要變數?\n",
    "# 變數是用來儲存資料的容器，可以隨時修改或使用。\n",
    "# 變數的命名規則：只能包含字母、數字和底線，不能以數字開頭，且不能使用 Python 的保留字。\n",
    "\n",
    "print(\"就決定是你了，「皮卡丘」!!\")\n",
    "print(\"「皮卡丘」攻擊力是「50」。\")\n",
    "print(\"「皮卡丘」防禦是「80」。\")\n",
    "print(\"「皮卡丘」血量是「100」。\")\n",
    "print(\"「皮卡丘」受到10點傷害，血量變成 「90」。\")\n",
    "print(\"「皮卡球」受到10點傷害，血量變成 「80」。\")\n",
    "print(\"「皮卡丘」受到10點傷害，血量變成 「70」。\")\n",
    "print(\"「皮卡丘」受到50點傷害，血量變成 「20」。\")"
   ]
  },
  {
   "cell_type": "markdown",
   "id": "2b35e06e-307c-4c04-8e92-7c2e7eb9b8f2",
   "metadata": {},
   "source": [
    "#### <font color=#0000FF>**今天皮卡丘極巨化了，要改名字。**|</font>"
   ]
  },
  {
   "cell_type": "code",
   "execution_count": 2,
   "id": "4f225c15-19d5-48b7-97ff-66a9c1bff6b7",
   "metadata": {
    "is_executing": true
   },
   "outputs": [
    {
     "name": "stdout",
     "output_type": "stream",
     "text": [
      "就決定是你了，「皮卡丘」!!\n",
      "「皮卡丘」攻擊力是「50」。\n",
      "「皮卡丘」防禦是「80」。\n",
      "「皮卡丘」血量是「100」。\n",
      "「皮卡丘」受到10點傷害，血量變成 「90」。\n",
      "「皮卡丘」受到10點傷害，血量變成 「80」。\n",
      "「皮卡丘」受到10點傷害，血量變成 「70」。\n",
      "「皮卡丘」受到50點傷害，血量變成 「20」。\n",
      "===============\n",
      "皮卡丘極巨化!!!!\n",
      "===============\n",
      "「極巨化皮卡丘」攻擊力是「50」。\n",
      "「極巨化皮卡丘」防禦是「80」。\n",
      "「極巨化皮卡丘」血量是「100」。\n",
      "「極巨化皮卡丘」受到10點傷害，血量變成 「90」。\n",
      "「極巨化皮卡丘」受到10點傷害，血量變成 「80」。\n",
      "「極巨化皮卡丘」受到10點傷害，血量變成 「70」。\n",
      "「極巨化皮卡丘」受到50點傷害，血量變成 「20」。\n"
     ]
    }
   ],
   "source": [
    "# 今天皮卡丘極巨化了，要改名字。\n",
    "print(\"就決定是你了，「皮卡丘」!!\")\n",
    "print(\"「皮卡丘」攻擊力是「50」。\")\n",
    "print(\"「皮卡丘」防禦是「80」。\")\n",
    "print(\"「皮卡丘」血量是「100」。\")\n",
    "print(\"「皮卡丘」受到10點傷害，血量變成 「90」。\")\n",
    "print(\"「皮卡丘」受到10點傷害，血量變成 「80」。\")\n",
    "print(\"「皮卡丘」受到10點傷害，血量變成 「70」。\")\n",
    "print(\"「皮卡丘」受到50點傷害，血量變成 「20」。\")\n",
    "print(\"===============\")\n",
    "print(\"皮卡丘極巨化!!!!\")\n",
    "print(\"===============\")\n",
    "print(\"「極巨化皮卡丘」攻擊力是「50」。\")\n",
    "print(\"「極巨化皮卡丘」防禦是「80」。\")\n",
    "print(\"「極巨化皮卡丘」血量是「100」。\")\n",
    "print(\"「極巨化皮卡丘」受到10點傷害，血量變成 「90」。\")\n",
    "print(\"「極巨化皮卡丘」受到10點傷害，血量變成 「80」。\")\n",
    "print(\"「極巨化皮卡丘」受到10點傷害，血量變成 「70」。\")\n",
    "print(\"「極巨化皮卡丘」受到50點傷害，血量變成 「20」。\")\n",
    "\n",
    "\n"
   ]
  },
  {
   "cell_type": "markdown",
   "id": "307d148b-97fa-47fb-bde4-2ec7bfb09415",
   "metadata": {},
   "source": [
    "#### <font color=#0000FF>**防禦力提高，傷害減半。**|</font>"
   ]
  },
  {
   "cell_type": "code",
   "execution_count": 3,
   "id": "dbbc3325-c918-464c-b8c9-f9e4c250fada",
   "metadata": {},
   "outputs": [
    {
     "name": "stdout",
     "output_type": "stream",
     "text": [
      "「極巨化皮卡丘」攻擊力是「50」。\n",
      "「極巨化皮卡丘」防禦是「80」。\n",
      "「極巨化皮卡丘」血量是「100」。\n",
      "「極巨化皮卡丘」受到10點傷害，血量變成 「90」。\n",
      "「極巨化皮卡丘」受到10點傷害，血量變成 「80」。\n",
      "「極巨化皮卡丘」受到10點傷害，血量變成 「70」。\n",
      "「極巨化皮卡丘」受到50點傷害，血量變成 「20」。\n",
      "===============\n",
      "皮防禦力提高，傷害減半。\n",
      "===============\n",
      "就決定是你了，「極巨化皮卡丘」!!\n",
      "「極巨化皮卡丘」攻擊力是「50」。\n",
      "「極巨化皮卡丘」防禦是「100」。\n",
      "「極巨化皮卡丘」血量是「100」。\n",
      "「極巨化皮卡丘」受到5點傷害，血量變成 「95」。\n",
      "「極巨化皮卡丘」受到5點傷害，血量變成 「90」。\n",
      "「極巨化皮卡丘」受到5點傷害，血量變成 「85」。\n",
      "「極巨化皮卡丘」受到25點傷害，血量變成 「60」。\n"
     ]
    }
   ],
   "source": [
    "# 防禦力提高，傷害減半。\n",
    "\n",
    "print(\"「極巨化皮卡丘」攻擊力是「50」。\")\n",
    "print(\"「極巨化皮卡丘」防禦是「80」。\")\n",
    "print(\"「極巨化皮卡丘」血量是「100」。\")\n",
    "print(\"「極巨化皮卡丘」受到10點傷害，血量變成 「90」。\")\n",
    "print(\"「極巨化皮卡丘」受到10點傷害，血量變成 「80」。\")\n",
    "print(\"「極巨化皮卡丘」受到10點傷害，血量變成 「70」。\")\n",
    "print(\"「極巨化皮卡丘」受到50點傷害，血量變成 「20」。\")\n",
    "print(\"===============\")\n",
    "print(\"皮防禦力提高，傷害減半。\")\n",
    "print(\"===============\")\n",
    "print(\"就決定是你了，「極巨化皮卡丘」!!\")\n",
    "print(\"「極巨化皮卡丘」攻擊力是「50」。\")\n",
    "print(\"「極巨化皮卡丘」防禦是「100」。\")\n",
    "print(\"「極巨化皮卡丘」血量是「100」。\")\n",
    "print(\"「極巨化皮卡丘」受到5點傷害，血量變成 「95」。\")\n",
    "print(\"「極巨化皮卡丘」受到5點傷害，血量變成 「90」。\")\n",
    "print(\"「極巨化皮卡丘」受到5點傷害，血量變成 「85」。\")\n",
    "print(\"「極巨化皮卡丘」受到25點傷害，血量變成 「60」。\")\n"
   ]
  },
  {
   "cell_type": "markdown",
   "id": "7f0ea638-30f1-479a-86b8-289216bb2e18",
   "metadata": {},
   "source": [
    "### <font color=#0000FF>**如果，改用變數會長甚麼樣子**</font>\n",
    "#### <font >**1. 建立寶可夢的基本資料**</font>\n",
    "#### <font >**2. 變數名稱可以是英文、數字和底線的組合，不能以數字開頭**</font>\n",
    "#### <font >**3. 變數名稱不能是 Python 的保留字，如 if、else、while 等**</font>"
   ]
  },
  {
   "attachments": {
    "c142bb73-62f6-4958-9915-9dbd1341aca6.png": {
     "image/png": "[encoded data removed]"
    }
   },
   "cell_type": "markdown",
   "id": "4b8114ed-707a-4012-bbc6-1dafb2fc4a2b",
   "metadata": {},
   "source": [
    "### 賦值運算子(assignment operator)\n",
    "指定（Assignment）\n",
    "在 Python 中，我們用「等號 =」來把資料指定給一個變數。\n",
    "這個動作就叫做「指定（assign）」，意思是：\n",
    "📦 把右邊的資料放進左邊這個變數中。\n",
    "\n",
    "🔍 看一個例子：\n",
    "![image.png](attachment:c142bb73-62f6-4958-9915-9dbd1341aca6.png)\n",
    "\n",
    "\n",
    "這行程式的意思是：\n",
    "1. 把 \"皮卡丘\" 這個文字 指定給 變數 name。\n",
    "2. 從現在開始，只要你打 name，就會代表 \"皮卡丘\"。\n",
    "\n",
    "‼️ 注意：這裡的 = 不是數學的等號！\n",
    "在 Python 裡，= 是「把右邊放進左邊」的意思。\n",
    "\n",
    "它不是「左右相等」，而是「指定」資料。 "
   ]
  },
  {
   "cell_type": "code",
   "execution_count": 4,
   "id": "72fbc309-f44f-4ca7-8167-3eb8d56821b7",
   "metadata": {},
   "outputs": [
    {
     "name": "stdout",
     "output_type": "stream",
     "text": [
      "if 改用「變數」會長甚麼樣子 -------------\n",
      "寶可夢名稱： 皮卡丘\n",
      "攻擊力： 50\n",
      "防禦力： 80\n",
      "HP： 100\n",
      "就決定是你了，「皮卡丘」!!\n",
      "「皮卡丘」攻擊力是「50」。\n",
      "「皮卡丘」防禦是「80」。\n",
      "「皮卡丘」血量是「100」。\n",
      "「皮卡丘」受到10點傷害，血量變成 「90」。\n",
      "「皮卡丘」受到10點傷害，血量變成 「80」。\n",
      "「皮卡丘」受到10點傷害，血量變成 「70」。\n",
      "「皮卡丘」受到50點傷害，血量變成 「20」。\n"
     ]
    }
   ],
   "source": [
    "# if 改用變數會長甚麼樣子\n",
    "# 建立寶可夢的基本資料\n",
    "# 變數名稱可以是英文、數字和底線的組合，不能以數字開頭\n",
    "# 變數名稱不能是 Python 的保留字，如 if、else、while 等\n",
    "\n",
    "\n",
    "# 寶可夢名字\n",
    "name = \"皮卡丘\"\n",
    "# 寶可夢攻擊力\n",
    "attack = 50\n",
    "# 寶可夢防禦力\n",
    "defense = 80\n",
    "# 寶可夢血量\n",
    "hp = 100 \n",
    "\n",
    "print(\"if 改用「變數」會長甚麼樣子 -------------\")\n",
    "print(\"寶可夢名稱：\", name)\n",
    "print(\"攻擊力：\", attack)\n",
    "print(\"防禦力：\", defense)\n",
    "print(\"HP：\", hp)\n",
    "\n",
    "print(f\"就決定是你了，「{name}」!!\")\n",
    "print(f\"「{name}」攻擊力是「{attack}」。\")\n",
    "print(f\"「{name}」防禦是「{defense}」。\")\n",
    "print(f\"「{name}」血量是「{hp}」。\")\n",
    "hp = hp - 10\n",
    "print(f\"「{name}」受到10點傷害，血量變成 「{hp}」。\")\n",
    "hp = hp - 10\n",
    "print(f\"「{name}」受到10點傷害，血量變成 「{hp}」。\")\n",
    "hp = hp - 10\n",
    "print(f\"「{name}」受到10點傷害，血量變成 「{hp}」。\")\n",
    "hp = hp - 50\n",
    "print(f\"「{name}」受到50點傷害，血量變成 「{hp}」。\")\n"
   ]
  },
  {
   "cell_type": "code",
   "execution_count": 5,
   "id": "7717394b-6390-4d7c-88f0-c0a0c1117428",
   "metadata": {},
   "outputs": [
    {
     "name": "stdout",
     "output_type": "stream",
     "text": [
      "皮卡丘極巨化 -------------\n",
      "寶可夢名稱： 極巨化皮卡丘\n",
      "攻擊力： 50\n",
      "防禦力： 100\n",
      "HP： 100\n",
      "就決定是你了，「極巨化皮卡丘」!!\n",
      "「極巨化皮卡丘」攻擊力是「50」。\n",
      "「極巨化皮卡丘」防禦是「100」。\n",
      "「極巨化皮卡丘」血量是「100」。\n",
      "「極巨化皮卡丘」受到10點傷害，血量變成 「90」。\n",
      "「極巨化皮卡丘」受到10點傷害，血量變成 「80」。\n",
      "「極巨化皮卡丘」受到10點傷害，血量變成 「70」。\n",
      "「極巨化皮卡丘」受到50點傷害，血量變成 「20」。\n"
     ]
    }
   ],
   "source": [
    "# 皮卡丘極巨化，防禦率上升\n",
    "name = \"極巨化皮卡丘\"\n",
    "defense = 100\n",
    "hp = 100  # 重置血量\n",
    "print(\"皮卡丘極巨化 -------------\")\n",
    "print(\"寶可夢名稱：\", name)\n",
    "print(\"攻擊力：\", attack)\n",
    "print(\"防禦力：\", defense)\n",
    "print(\"HP：\", hp)\n",
    "\n",
    "print(f\"就決定是你了，「{name}」!!\")\n",
    "print(f\"「{name}」攻擊力是「{attack}」。\")\n",
    "print(f\"「{name}」防禦是「{defense}」。\")\n",
    "print(f\"「{name}」血量是「{hp}」。\")\n",
    "hp = hp - 10\n",
    "print(f\"「{name}」受到10點傷害，血量變成 「{hp}」。\")\n",
    "hp = hp - 10\n",
    "print(f\"「{name}」受到10點傷害，血量變成 「{hp}」。\")\n",
    "hp = hp - 10\n",
    "print(f\"「{name}」受到10點傷害，血量變成 「{hp}」。\")\n",
    "hp = hp - 50\n",
    "print(f\"「{name}」受到50點傷害，血量變成 「{hp}」。\")\n"
   ]
  },
  {
   "cell_type": "markdown",
   "id": "d5b72929-11a3-46c6-879d-9aef1bcb4eec",
   "metadata": {
    "collapsed": false,
    "jupyter": {
     "outputs_hidden": false
    }
   },
   "source": [
    "## "
   ]
  },
  {
   "cell_type": "markdown",
   "id": "a6d3f4fd-5871-4125-bbcb-3387bfd4142c",
   "metadata": {
    "collapsed": false,
    "jupyter": {
     "outputs_hidden": false
    }
   },
   "source": [
    "## 1.2 算術運算子"
   ]
  },
  {
   "cell_type": "markdown",
   "id": "6091dcdb8aed9f3f",
   "metadata": {
    "collapsed": false,
    "jupyter": {
     "outputs_hidden": false
    }
   },
   "source": [
    "### ❤️ 1.2.1 治癒（加法運算）"
   ]
  },
  {
   "cell_type": "code",
   "execution_count": 6,
   "id": "bfc1bb2ba6c22ebd",
   "metadata": {
    "ExecuteTime": {
     "end_time": "2025-07-22T14:29:46.209653Z",
     "start_time": "2025-07-22T14:29:46.195653Z"
    }
   },
   "outputs": [
    {
     "name": "stdout",
     "output_type": "stream",
     "text": [
      "加法: 1234 + 2234 + 3234 + 4234 = 10936\n",
      "目前 HP： 40\n",
      "補血後的 HP： 70\n"
     ]
    }
   ],
   "source": [
    "# 算術運算 - 加法\n",
    "print(\"加法: 1234 + 2234 + 3234 + 4234 =\", 1234 + 2234 + 3234 + 4234)\n",
    "\n",
    "\n",
    "# 初始 HP\n",
    "hp = 40\n",
    "print(\"目前 HP：\", hp)\n",
    "\n",
    "# 使用補血道具\n",
    "heal = 30\n",
    "hp = hp + heal\n",
    "\n",
    "print(\"補血後的 HP：\", hp)"
   ]
  },
  {
   "cell_type": "markdown",
   "id": "a6354bd51dc60d4d",
   "metadata": {
    "collapsed": false,
    "jupyter": {
     "outputs_hidden": false
    }
   },
   "source": [
    "### ⚔️ 1.2.2 攻擊扣血（減法運算）"
   ]
  },
  {
   "cell_type": "code",
   "execution_count": 7,
   "id": "84f78aab41c3964c",
   "metadata": {},
   "outputs": [
    {
     "name": "stdout",
     "output_type": "stream",
     "text": [
      "減法: 4234 - 3234 - 2234 - 1234 = -2468\n",
      "受到30點攻擊\n",
      "受到攻擊後的 HP： 10\n",
      "===========================\n",
      "受到60點攻擊\n",
      "受到攻擊後的 HP： -50 🐀掉\n"
     ]
    }
   ],
   "source": [
    "# 算術運算 - 減法\n",
    "print(\"減法: 4234 - 3234 - 2234 - 1234 =\", 4234 - 3234 - 2234 - 1234)\n",
    "\n",
    "# 初始 HP\n",
    "hp = 40\n",
    "print(\"受到30點攻擊\")\n",
    "hp = hp - 30\n",
    "print(\"受到攻擊後的 HP：\", hp)\n",
    "print(\"===========================\")\n",
    "damage_taken = 60\n",
    "print(\"受到60點攻擊\")\n",
    "hp = hp - damage_taken\n",
    "print(\"受到攻擊後的 HP：\", hp , \"🐀掉\")\n"
   ]
  },
  {
   "cell_type": "markdown",
   "id": "da34e7895fb47c87",
   "metadata": {
    "collapsed": false,
    "jupyter": {
     "outputs_hidden": false
    }
   },
   "source": [
    "### 🛡️ 1.2.3 防禦力下降（乘法運算）"
   ]
  },
  {
   "cell_type": "code",
   "execution_count": 8,
   "id": "653f7cb939d5b84",
   "metadata": {},
   "outputs": [
    {
     "name": "stdout",
     "output_type": "stream",
     "text": [
      "乘法: 1 * 2 * 3 * 4 = 24\n",
      "原本防禦力： 100\n",
      "防禦力下降後： 80.0\n"
     ]
    }
   ],
   "source": [
    "# 原本的防禦力\n",
    "print(\"乘法: 1 * 2 * 3 * 4 =\", 1 * 2 * 3 * 4 )\n",
    "\n",
    "defense = 100\n",
    "print(\"原本防禦力：\", defense)\n",
    "\n",
    "# 防禦力下降 20%\n",
    "defense = defense * 0.8\n",
    "\n",
    "print(\"防禦力下降後：\", defense)"
   ]
  },
  {
   "cell_type": "code",
   "execution_count": 9,
   "id": "f434db3855a8f661",
   "metadata": {},
   "outputs": [],
   "source": [
    "# 🧠 說明：\n",
    "# 0.8 = 剩下 80%，代表下降 20%\n",
    "# defense = defense * 0.8 就是「原本防禦力 × 80%」\n",
    "# 可用在寶可夢被「破防招式」擊中時的情境"
   ]
  },
  {
   "cell_type": "code",
   "execution_count": 11,
   "id": "41466f03719d252f",
   "metadata": {},
   "outputs": [
    {
     "name": "stdout",
     "output_type": "stream",
     "text": [
      "原本防禦力： 100\n"
     ]
    },
    {
     "name": "stdin",
     "output_type": "stream",
     "text": [
      "請輸入要下降幾 %： 20\n"
     ]
    },
    {
     "name": "stdout",
     "output_type": "stream",
     "text": [
      "防禦力下降後： 80.0\n"
     ]
    }
   ],
   "source": [
    "# 加強互動版（輸入下降百分比）\n",
    "defense = 100\n",
    "print(\"原本防禦力：\", defense)\n",
    "\n",
    "percent = int(input(\"請輸入要下降幾 %：\"))  # 例如 20\n",
    "rate = (100 - percent) / 100\n",
    "\n",
    "defense = defense * rate\n",
    "print(\"防禦力下降後：\", defense)"
   ]
  },
  {
   "cell_type": "markdown",
   "id": "dd3eda586e736654",
   "metadata": {
    "collapsed": false,
    "jupyter": {
     "outputs_hidden": false
    }
   },
   "source": [
    "### 🧪 1.2.4 平均傷害計算 (除法運算)\n",
    "🧠 情境說明\n",
    "你有一個寶可夢使用了一個大絕招，造成了 總共 120 點傷害，打到 3 隻敵人身上。\n",
    "你想知道：「平均每一隻敵人被打了多少？」"
   ]
  },
  {
   "cell_type": "code",
   "execution_count": 12,
   "id": "36cbd4959a5a68e8",
   "metadata": {},
   "outputs": [
    {
     "name": "stdout",
     "output_type": "stream",
     "text": [
      "每一隻敵人平均受到 40.0 點傷害\n"
     ]
    }
   ],
   "source": [
    "total_damage = 120\n",
    "targets = 3\n",
    "\n",
    "average_damage = total_damage / targets\n",
    "\n",
    "print(\"每一隻敵人平均受到\", average_damage, \"點傷害\")"
   ]
  },
  {
   "cell_type": "code",
   "execution_count": null,
   "id": "45fca76f7f86f6f4",
   "metadata": {},
   "outputs": [],
   "source": [
    "# 加強互動版（輸入總傷害跟敵人數量）\n",
    "total_damage = int(input(\"請輸入總傷害：\"))\n",
    "targets = int(input(\"請輸入敵人數量：\"))\n",
    "\n",
    "average_damage = total_damage / targets\n",
    "\n",
    "print(\"每隻敵人平均受到\", average_damage, \"點傷害\")"
   ]
  },
  {
   "cell_type": "markdown",
   "id": "ab33f9bf",
   "metadata": {},
   "source": [
    "# 2️⃣ 字串操作與格式化"
   ]
  },
  {
   "attachments": {
    "3adf8a98-0751-4b76-bef6-478f24509ec7.png": {
     "image/png": "[encoded data removed]"
    },
    "c550ed24-28c3-49c5-93d9-158e776b7b40.png": {
     "image/png": "[encoded data removed]"
    }
   },
   "cell_type": "markdown",
   "id": "1fc9f62e-01ff-41c3-bdac-3d0d42e8b7a5",
   "metadata": {},
   "source": [
    "## 🧵 2.1 什麼是字串？（String）\n",
    "\n",
    "字串就是一串「文字」，在 Python 裡用來表示名字、句子、對話、描述……這些用文字表達的東西。\n",
    "\n",
    "👉 在程式中，我們會用**雙引號 \" 或單引號 '**把字串包起來：\n",
    "\n",
    "![image.png](attachment:3adf8a98-0751-4b76-bef6-478f24509ec7.png)\n",
    "![image.png](attachment:c550ed24-28c3-49c5-93d9-158e776b7b40.png)"
   ]
  },
  {
   "cell_type": "markdown",
   "id": "aa4c0b45-f366-4826-aab7-1d668f118f04",
   "metadata": {},
   "source": [
    "⚠️ 字串不是數字！"
   ]
  },
  {
   "cell_type": "code",
   "execution_count": null,
   "id": "3bcc7acc-95f7-4050-a3af-87a89e0b76af",
   "metadata": {},
   "outputs": [],
   "source": [
    "print('\"100\" + \"50\":', \"100\" + \"50\")\n",
    "print('100 + 50:', 100 + 50)"
   ]
  },
  {
   "cell_type": "markdown",
   "id": "f86ec49c2d0d1923",
   "metadata": {
    "collapsed": false,
    "jupyter": {
     "outputs_hidden": false
    }
   },
   "source": [
    "## 🧵 2.2 字串操作與格式化\n",
    "\n",
    "在 Python 中，文字資料稱為「字串（string）」。你可以：\n",
    "\n",
    "- 將字串接在一起（相加）\n",
    "- 把字串重複多次（乘法）\n",
    "- 取出某個位置的字（index 索引值）\n",
    "- 把變數插入字串中（格式化）\n",
    "\n",
    "我們來看看皮卡丘怎麼幫忙學習這些技能！\n"
   ]
  },
  {
   "cell_type": "markdown",
   "id": "e92824988d9f4be8",
   "metadata": {
    "collapsed": false,
    "jupyter": {
     "outputs_hidden": false
    }
   },
   "source": [
    "### 🧪 2.2.1 字串相加（Concatenation）"
   ]
  },
  {
   "cell_type": "code",
   "execution_count": null,
   "id": "9059d535a9249873",
   "metadata": {},
   "outputs": [],
   "source": [
    "# 還記得變數嗎?\n",
    "name = \"皮卡丘\"\n",
    "type = \"電\"\n",
    "info = name + \" 是一隻 \" + type + \" 屬性的寶可夢！\"\n",
    "print(info)"
   ]
  },
  {
   "cell_type": "markdown",
   "id": "7dcc0ead457c74ac",
   "metadata": {
    "collapsed": false,
    "jupyter": {
     "outputs_hidden": false
    }
   },
   "source": [
    "### 🎲 2.2.2 字串乘法（字串 * 數字）"
   ]
  },
  {
   "cell_type": "code",
   "execution_count": null,
   "id": "2247beabac654d63",
   "metadata": {},
   "outputs": [],
   "source": [
    "cry = \"皮！\"\n",
    "print(cry * 3)"
   ]
  },
  {
   "cell_type": "markdown",
   "id": "a2577b404ce508e9",
   "metadata": {
    "collapsed": false,
    "jupyter": {
     "outputs_hidden": false
    }
   },
   "source": [
    "### 🧩 2.2.3 字串索引（Index）"
   ]
  },
  {
   "cell_type": "code",
   "execution_count": null,
   "id": "2ee88f3aad1c1bf2",
   "metadata": {},
   "outputs": [],
   "source": [
    "# 注意: 索引都是從0開始唷!!\n",
    "pokemon = \"小火龍!!!\"\n",
    "print('第一個字:', pokemon[0])  # 第一個字\n",
    "print('第三個字:', pokemon[2])  # 第三個字\n",
    "print('最後一個字:', pokemon[-1]) # 最後一個字"
   ]
  },
  {
   "cell_type": "markdown",
   "id": "bd43160ac758ffb2",
   "metadata": {
    "collapsed": false,
    "jupyter": {
     "outputs_hidden": false
    }
   },
   "source": [
    "### 🧙‍♂️ 2.2.4 字串格式化 – % 舊寫法（讀得懂就好）"
   ]
  },
  {
   "cell_type": "code",
   "execution_count": null,
   "id": "c22acae9d9984b9e",
   "metadata": {},
   "outputs": [],
   "source": [
    "name = \"妙蛙種子\"\n",
    "level = 12\n",
    "print(\"%s 的等級是 %d\" % (name, level))"
   ]
  },
  {
   "cell_type": "markdown",
   "id": "23ec278f4483dac8",
   "metadata": {
    "collapsed": false,
    "jupyter": {
     "outputs_hidden": false
    }
   },
   "source": [
    "### 🧙‍♂️ 2.2.5 字串格式化 – f-string (推薦寫法!!)"
   ]
  },
  {
   "cell_type": "code",
   "execution_count": null,
   "id": "1aeeb1cdfd0886c4",
   "metadata": {},
   "outputs": [],
   "source": [
    "name = \"小火龍\"\n",
    "attack = 52\n",
    "print(f\"{name} 的攻擊力是 {attack} 點！\")"
   ]
  },
  {
   "cell_type": "markdown",
   "id": "3ac3948b5e3f95b2",
   "metadata": {
    "collapsed": false,
    "jupyter": {
     "outputs_hidden": false
    }
   },
   "source": [
    "\n",
    "### 🧪 小挑戰：請完成下面的句子\n",
    "\n",
    "請用字串相加、格式化，印出：\n",
    "\n",
    "```\n",
    "雷丘 的屬性是 電，攻擊力是 90。\n",
    "```\n",
    "\n",
    "（提示：你可以用 f-string 或 + 處理）\n"
   ]
  },
  {
   "cell_type": "code",
   "execution_count": null,
   "id": "2beb5574f01032c0",
   "metadata": {},
   "outputs": [],
   "source": [
    "\n",
    "# 開始練習吧！\n",
    "name = \"雷丘\"\n",
    "type = \"電\"\n",
    "attack = 90\n",
    "\n",
    "# 在這裡印出想要的字串\n",
    "# 你可以用這樣的方式：\n",
    "# print(name + \" 的屬性是 \" + type + \"，攻擊力是 \" + str(attack) + \"。\")\n",
    "\n",
    "# 或者這樣：\n",
    "# print(f\"{name} 的屬性是 {type}，攻擊力是 {attack}。\")\n"
   ]
  },
  {
   "cell_type": "markdown",
   "id": "d5fd6de18daedef6",
   "metadata": {
    "collapsed": false,
    "jupyter": {
     "outputs_hidden": false
    }
   },
   "source": [
    "🧠 什麼是多重指定？\n",
    "就是一次給多個變數賦值，讓程式碼更簡潔。"
   ]
  },
  {
   "cell_type": "code",
   "execution_count": null,
   "id": "2266c54a15fb4b5e",
   "metadata": {},
   "outputs": [],
   "source": [
    "# 單一指定\n",
    "name = \"皮卡丘\"\n",
    "type = \"電\"\n",
    "hp = 35\n",
    "attack = 55\n",
    "\n",
    "# 一次指定多個屬性 (未必比較容易閱讀)\n",
    "name, type, hp, attack = \"皮卡丘\", \"電\", 35, 55\n",
    "\n",
    "print(\"寶可夢名稱：\", name)\n",
    "print(\"屬性：\", type)\n",
    "print(\"HP：\", hp)\n",
    "print(\"攻擊力：\", attack)"
   ]
  },
  {
   "cell_type": "markdown",
   "id": "93815706c3082799",
   "metadata": {
    "collapsed": false,
    "jupyter": {
     "outputs_hidden": false
    }
   },
   "source": [
    "🧪 延伸互動挑戰（加上交換值應用）"
   ]
  },
  {
   "cell_type": "code",
   "execution_count": null,
   "id": "7fe48ac8ecac7dcc",
   "metadata": {},
   "outputs": [],
   "source": [
    "# 交換兩隻寶可夢的名字\n",
    "a, b = \"小火龍\", \"傑尼龜\"\n",
    "print(\"交換前：\", a, b)\n",
    "\n",
    "a, b = b, a  # 用多重指定交換值\n",
    "\n",
    "print(\"交換後：\", a, b)\n"
   ]
  },
  {
   "cell_type": "markdown",
   "id": "b57c1764",
   "metadata": {},
   "source": [
    "## 3️⃣ 資料型別  (Data Types)"
   ]
  },
  {
   "cell_type": "markdown",
   "id": "fadb0732b6921cd0",
   "metadata": {
    "collapsed": false,
    "jupyter": {
     "outputs_hidden": false
    }
   },
   "source": [
    "### 3-1. 基本資料型別（Basic Data Types）\n",
    "\n",
    "Python 有幾種常用的基本資料型別：\n",
    "\n",
    "- **整數（int）**：用來表示整數數字，例如寶可夢的攻擊力。\n",
    "- **浮點數（float）**：用來表示小數點數字，例如傷害加成倍率。\n",
    "- **字串（str）**：用來表示文字，例如寶可夢的名稱。\n",
    "- **布林值（bool）**：表示真假，常用於判斷式。\n",
    "\n",
    "現在我們透過寶可夢卡牌，一起認識這些型別吧！\n"
   ]
  },
  {
   "cell_type": "markdown",
   "id": "53a78aaa58d3cbd",
   "metadata": {
    "collapsed": false,
    "jupyter": {
     "outputs_hidden": false
    }
   },
   "source": [
    "### 🔢 整數（int）"
   ]
  },
  {
   "cell_type": "code",
   "execution_count": null,
   "id": "4a0d037630ddd04f",
   "metadata": {},
   "outputs": [],
   "source": [
    "del type\n",
    "attack_power = 55\n",
    "print(\"皮卡丘的攻擊力是：\", attack_power)\n",
    "print(\"attack_power 的型別是：\", type(attack_power))\n"
   ]
  },
  {
   "cell_type": "markdown",
   "id": "f16ac0ffa79c2e99",
   "metadata": {
    "collapsed": false,
    "jupyter": {
     "outputs_hidden": false
    }
   },
   "source": [
    "### 🎯 浮點數（float）"
   ]
  },
  {
   "cell_type": "code",
   "execution_count": null,
   "id": "e20f1142b2e39665",
   "metadata": {},
   "outputs": [],
   "source": [
    "\n",
    "damage_multiplier = 1.5\n",
    "print(\"攻擊加成倍率是：\", damage_multiplier)\n",
    "print(\"damage_multiplier 的型別是：\", type(damage_multiplier))\n"
   ]
  },
  {
   "cell_type": "markdown",
   "id": "98f44847ddedda5f",
   "metadata": {
    "collapsed": false,
    "jupyter": {
     "outputs_hidden": false
    }
   },
   "source": [
    "### 🔤 字串（str）"
   ]
  },
  {
   "cell_type": "code",
   "execution_count": null,
   "id": "a0f42b7d4c1b4f2e",
   "metadata": {},
   "outputs": [],
   "source": [
    "\n",
    "pokemon_name = \"小火龍\"\n",
    "print(\"寶可夢名稱是：\", pokemon_name)\n",
    "print(\"pokemon_name 的型別是：\", type(pokemon_name))\n"
   ]
  },
  {
   "cell_type": "markdown",
   "id": "6c536a44bf117372",
   "metadata": {
    "collapsed": false,
    "jupyter": {
     "outputs_hidden": false
    }
   },
   "source": [
    "### ✅ 布林值（bool）"
   ]
  },
  {
   "cell_type": "code",
   "execution_count": null,
   "id": "1c843656d91b2dd1",
   "metadata": {},
   "outputs": [],
   "source": [
    "\n",
    "is_electric = True\n",
    "print(\"這隻寶可夢是電屬性嗎？\", is_electric)\n",
    "print(\"is_electric 的型別是：\", type(is_electric))\n"
   ]
  },
  {
   "cell_type": "markdown",
   "id": "42b61f4e98ccc67",
   "metadata": {
    "collapsed": false,
    "jupyter": {
     "outputs_hidden": false
    }
   },
   "source": [
    "\n",
    "### 🧪 小挑戰：建立你自己的寶可夢資訊！\n",
    "\n",
    "請練習使用上面的資料型別，建立一隻寶可夢的以下資訊：\n",
    "\n",
    "- 名稱 (字串)\n",
    "- 攻擊力 (整數)\n",
    "- 傷害倍率 (浮點數)\n",
    "- 是否為火屬性 (布林值)\n",
    "\n",
    "並印出它們的值與型別！\n"
   ]
  },
  {
   "cell_type": "code",
   "execution_count": null,
   "id": "8e71c8f033b8a8a1",
   "metadata": {},
   "outputs": [],
   "source": [
    "\n",
    "# 在這裡完成挑戰\n",
    "\n",
    "# 名稱（str）\n",
    "\n",
    "# 攻擊力（int）\n",
    "\n",
    "# 傷害倍率（float）\n",
    "\n",
    "# 是否為火屬性（bool）\n",
    "\n",
    "# 印出這些資料及其型別\n"
   ]
  },
  {
   "cell_type": "markdown",
   "id": "fd6b22ad9f089948",
   "metadata": {
    "collapsed": false,
    "jupyter": {
     "outputs_hidden": false
    }
   },
   "source": [
    "🧪 範例：Python 的型別註記  \n",
    "📌 變數的型別註記"
   ]
  },
  {
   "cell_type": "code",
   "execution_count": null,
   "id": "50de0f7870c48841",
   "metadata": {},
   "outputs": [],
   "source": [
    "hp: int = 100\n",
    "name: str = \"皮卡丘\"\n",
    "damage_multiplier: float = 1.5\n",
    "is_electric: bool = True"
   ]
  },
  {
   "cell_type": "markdown",
   "id": "e0272ea91d6be7f6",
   "metadata": {
    "collapsed": false,
    "jupyter": {
     "outputs_hidden": false
    }
   },
   "source": [
    "📌 函式的型別註記"
   ]
  },
  {
   "cell_type": "code",
   "execution_count": null,
   "id": "6cfe05251e171129",
   "metadata": {},
   "outputs": [],
   "source": [
    "def calculate_damage(base: int, multiplier: float) -> float:\n",
    "    return base * multiplier\n",
    "\n",
    "# 這表示：\n",
    "# base 是 int\n",
    "# multiplier 是 float\n",
    "# 回傳值是 float\n"
   ]
  },
  {
   "cell_type": "markdown",
   "id": "9e64fe52a1f6120",
   "metadata": {
    "collapsed": false,
    "jupyter": {
     "outputs_hidden": false
    }
   },
   "source": [
    "\n",
    "### 🧰 3-2. 卡組管理：List 與 Dictionary\n",
    "\n",
    "在寶可夢卡牌遊戲中，一副卡組會包含多張卡牌，而每一張卡牌都有自己的資料，像是名稱、屬性、HP 和攻擊力。\n",
    "\n",
    "我們可以使用：\n",
    "- `Dictionary`（字典）來表示一張卡牌的資料\n",
    "- `List`（串列）來表示整副卡組\n",
    "\n",
    "現在我們就來試著建立我們的第一副卡組吧！\n"
   ]
  },
  {
   "cell_type": "code",
   "execution_count": null,
   "id": "f05d6b06bd7d2b4",
   "metadata": {},
   "outputs": [],
   "source": [
    "\n",
    "# 建立一張卡牌（用 dictionary）\n",
    "pikachu = {\n",
    "    \"name\": \"皮卡丘\",\n",
    "    \"type\": \"電\",\n",
    "    \"hp\": 35,\n",
    "    \"attack\": 55\n",
    "}\n",
    "\n",
    "print(pikachu)\n"
   ]
  },
  {
   "cell_type": "code",
   "execution_count": null,
   "id": "5df4fa3f06a4c5b8",
   "metadata": {},
   "outputs": [],
   "source": [
    "\n",
    "# 建立一副卡組（用 list 包含多個 dictionary）\n",
    "deck = []\n",
    "\n",
    "# 把皮卡丘加入卡組\n",
    "deck.append(pikachu)\n",
    "\n",
    "# 加入其他卡牌\n",
    "deck.append({\n",
    "    \"name\": \"小火龍\",\n",
    "    \"type\": \"火\",\n",
    "    \"hp\": 39,\n",
    "    \"attack\": 52\n",
    "})\n",
    "\n",
    "deck.append({\n",
    "    \"name\": \"傑尼龜\",\n",
    "    \"type\": \"水\",\n",
    "    \"hp\": 44,\n",
    "    \"attack\": 48\n",
    "})\n"
   ]
  },
  {
   "cell_type": "code",
   "execution_count": null,
   "id": "5a949e16bf3bbffa",
   "metadata": {},
   "outputs": [],
   "source": [
    "\n",
    "# 顯示整副卡組內容\n",
    "for card in deck:\n",
    "    print(f\"{card['name']} ({card['type']}) - HP: {card['hp']} / 攻擊力: {card['attack']}\")\n"
   ]
  },
  {
   "cell_type": "code",
   "execution_count": null,
   "id": "c7a6787a1a104042",
   "metadata": {},
   "outputs": [],
   "source": [
    "\n",
    "# 練習：加入一張新卡牌「妙蛙種子」\n",
    "bulbasaur = {\n",
    "    \"name\": \"妙蛙種子\",\n",
    "    \"type\": \"草\",\n",
    "    \"hp\": 45,\n",
    "    \"attack\": 49\n",
    "}\n",
    "\n",
    "deck.append(bulbasaur)\n",
    "print(\"加入妙蛙種子後，共有\", len(deck), \"張卡牌。\")\n"
   ]
  },
  {
   "cell_type": "markdown",
   "id": "dbeca298bdd03156",
   "metadata": {
    "collapsed": false,
    "jupyter": {
     "outputs_hidden": false
    }
   },
   "source": [
    "✅ 小結\n",
    "| 類型  | 語法範例                          |\n",
    "| --- | ----------------------------- |\n",
    "| 整數  | `x: int = 10`                 |\n",
    "| 浮點數 | `rate: float = 0.75`          |\n",
    "| 字串  | `name: str = \"小火龍\"`           |\n",
    "| 布林值 | `is_alive: bool = True`       |\n",
    "| 串列  | `cards: List[str] = [...]`    |\n",
    "| 字典  | `stats: Dict[str, int] = ...` |\n"
   ]
  },
  {
   "cell_type": "markdown",
   "id": "b586df2aee4d18d9",
   "metadata": {
    "collapsed": false,
    "jupyter": {
     "outputs_hidden": false
    }
   },
   "source": [
    "\n",
    "## 📚 3-3. List 操作大全：卡組管理進階\n",
    "\n",
    "在前面我們學會了如何使用 List 建立寶可夢卡組，現在我們來學習更多 List 的常見操作方法：\n",
    "\n",
    "- **add**（加入卡牌）\n",
    "- **update**（更新卡牌資訊）\n",
    "- **delete**（刪除卡牌）\n",
    "- **length**（卡牌數量）\n",
    "- **concatenation**（合併卡組）\n",
    "- **max / min**（找出最大值或最小值，常用於攻擊力、HP 等）\n"
   ]
  },
  {
   "cell_type": "code",
   "execution_count": null,
   "id": "b82c72e578b51a34",
   "metadata": {},
   "outputs": [],
   "source": [
    "deck = [\n",
    "    { \"name\": \"皮卡丘\", \"type\": \"電\", \"hp\": 35, \"attack\": 55 },\n",
    "    { \"name\": \"小火龍\", \"type\": \"火\", \"hp\": 39, \"attack\": 52 },\n",
    "    { \"name\": \"傑尼龜\", \"type\": \"水\", \"hp\": 44, \"attack\": 48 },\n",
    "    { \"name\": \"妙蛙種子\", \"type\": \"草\", \"hp\": 45, \"attack\": 49 },\n",
    "    { \"name\": \"雷丘\", \"type\": \"電\", \"hp\": 60, \"attack\": 90 },\n",
    "    { \"name\": \"九尾\", \"type\": \"火\", \"hp\": 73, \"attack\": 76 },\n",
    "    { \"name\": \"水箭龜\", \"type\": \"水\", \"hp\": 79, \"attack\": 83 },\n",
    "    { \"name\": \"噴火龍\", \"type\": \"火\", \"hp\": 78, \"attack\": 84 },\n",
    "    { \"name\": \"伊布\", \"type\": \"一般\", \"hp\": 55, \"attack\": 55 },\n",
    "    { \"name\": \"胖丁\", \"type\": \"一般\", \"hp\": 115, \"attack\": 45 },\n",
    "    { \"name\": \"風速狗\", \"type\": \"火\", \"hp\": 90, \"attack\": 110 },\n",
    "    { \"name\": \"拉普拉斯\", \"type\": \"水\", \"hp\": 130, \"attack\": 85 },\n",
    "    { \"name\": \"雷伊布\", \"type\": \"電\", \"hp\": 65, \"attack\": 65 },\n",
    "    { \"name\": \"火伊布\", \"type\": \"火\", \"hp\": 65, \"attack\": 130 },\n",
    "    { \"name\": \"水伊布\", \"type\": \"水\", \"hp\": 65, \"attack\": 60 },\n",
    "    { \"name\": \"卡咪龜\", \"type\": \"水\", \"hp\": 59, \"attack\": 63 },\n",
    "    { \"name\": \"綠毛蟲\", \"type\": \"蟲\", \"hp\": 45, \"attack\": 30 },\n",
    "    { \"name\": \"小磁怪\", \"type\": \"電\", \"hp\": 25, \"attack\": 35 },\n",
    "    { \"name\": \"火焰鳥\", \"type\": \"火\", \"hp\": 90, \"attack\": 100 },\n",
    "    { \"name\": \"傑尼龜二號\", \"type\": \"水\", \"hp\": 46, \"attack\": 49 }\n",
    "]"
   ]
  },
  {
   "cell_type": "markdown",
   "id": "edcbabb7da331648",
   "metadata": {
    "collapsed": false,
    "jupyter": {
     "outputs_hidden": false
    }
   },
   "source": [
    "### ➕ 加入卡牌（Add）"
   ]
  },
  {
   "cell_type": "code",
   "execution_count": null,
   "id": "de54d8123be3178b",
   "metadata": {},
   "outputs": [],
   "source": [
    "\n",
    "new_card = {\"name\": \"妙蛙種子\", \"type\": \"草\", \"hp\": 45, \"attack\": 49}\n",
    "deck.append(new_card)\n",
    "print(\"加入後的卡組：\", deck)\n"
   ]
  },
  {
   "cell_type": "markdown",
   "id": "15a744979505fda0",
   "metadata": {
    "collapsed": false,
    "jupyter": {
     "outputs_hidden": false
    }
   },
   "source": [
    "### ✏️ 更新卡牌資訊（Update）"
   ]
  },
  {
   "cell_type": "code",
   "execution_count": null,
   "id": "1f0d8944b413093b",
   "metadata": {},
   "outputs": [],
   "source": [
    "\n",
    "deck[0][\"hp\"] = 50  # 將皮卡丘的 HP 改成 50\n",
    "print(\"更新後的卡牌：\", deck[0])\n"
   ]
  },
  {
   "cell_type": "markdown",
   "id": "3c31b9eea09582e9",
   "metadata": {
    "collapsed": false,
    "jupyter": {
     "outputs_hidden": false
    }
   },
   "source": [
    "### ❌ 刪除卡牌（Delete）"
   ]
  },
  {
   "cell_type": "code",
   "execution_count": null,
   "id": "13a4e14bf811cd21",
   "metadata": {},
   "outputs": [],
   "source": [
    "\n",
    "del deck[1]  # 刪除小火龍\n",
    "print(\"刪除後的卡組：\", deck)\n"
   ]
  },
  {
   "cell_type": "markdown",
   "id": "c0e0c4069de37d6f",
   "metadata": {
    "collapsed": false,
    "jupyter": {
     "outputs_hidden": false
    }
   },
   "source": [
    "### 📏 計算卡牌數量（Length）"
   ]
  },
  {
   "cell_type": "code",
   "execution_count": null,
   "id": "54594ff6542978f2",
   "metadata": {},
   "outputs": [],
   "source": [
    "\n",
    "print(\"卡組中共有\", len(deck), \"張卡牌\")\n"
   ]
  },
  {
   "cell_type": "markdown",
   "id": "c5d204baf694bb19",
   "metadata": {
    "collapsed": false,
    "jupyter": {
     "outputs_hidden": false
    }
   },
   "source": [
    "### 🔗 合併卡組（Concatenation）"
   ]
  },
  {
   "cell_type": "code",
   "execution_count": null,
   "id": "f9f277cd6ade4937",
   "metadata": {},
   "outputs": [],
   "source": [
    "\n",
    "extra_deck = [\n",
    "    {\"name\": \"雷丘\", \"type\": \"電\", \"hp\": 60, \"attack\": 90}\n",
    "]\n",
    "full_deck = deck + extra_deck\n",
    "print(\"合併後的卡組：\")\n",
    "for card in full_deck:\n",
    "    print(card)\n"
   ]
  },
  {
   "cell_type": "markdown",
   "id": "42e8b3cdda7a8f13",
   "metadata": {
    "collapsed": false,
    "jupyter": {
     "outputs_hidden": false
    }
   },
   "source": [
    "### 🔺 找出攻擊力最強與最弱（Max / Min）"
   ]
  },
  {
   "cell_type": "code",
   "execution_count": null,
   "id": "769e75df049b5b7b",
   "metadata": {},
   "outputs": [],
   "source": [
    "\n",
    "# 找出攻擊力最大與最小的卡牌\n",
    "max_attack = max(deck, key=lambda card: card[\"attack\"])\n",
    "min_attack = min(deck, key=lambda card: card[\"attack\"])\n",
    "\n",
    "print(\"攻擊力最高：\", max_attack)\n",
    "print(\"攻擊力最低：\", min_attack)\n"
   ]
  },
  {
   "cell_type": "markdown",
   "id": "320e0eb1005f40aa",
   "metadata": {
    "collapsed": false,
    "jupyter": {
     "outputs_hidden": false
    }
   },
   "source": [
    "### 🔍 搜尋特定卡牌（Search）"
   ]
  },
  {
   "cell_type": "code",
   "execution_count": null,
   "id": "aecfc7f873e36d15",
   "metadata": {},
   "outputs": [],
   "source": [
    "\n",
    "# 搜尋名稱為 \"皮卡丘\" 的卡牌\n",
    "search_name = \"皮卡丘\"\n",
    "found_cards = [card for card in deck if card[\"name\"] == search_name]\n",
    "print(\"搜尋結果：\", found_cards)\n"
   ]
  },
  {
   "cell_type": "markdown",
   "id": "d3896c461ee3dabc",
   "metadata": {
    "collapsed": false,
    "jupyter": {
     "outputs_hidden": false
    }
   },
   "source": [
    "### 📊 依攻擊力排序（Sort）"
   ]
  },
  {
   "cell_type": "code",
   "execution_count": null,
   "id": "2a1e4e4f48df419c",
   "metadata": {},
   "outputs": [],
   "source": [
    "\n",
    "# 依照攻擊力從高到低排序\n",
    "sorted_deck = sorted(deck, key=lambda card: card[\"attack\"], reverse=True)\n",
    "print(\"攻擊力排序後的卡組：\")\n",
    "for card in sorted_deck:\n",
    "    print(card)\n"
   ]
  },
  {
   "cell_type": "markdown",
   "id": "4175d42250056ba5",
   "metadata": {
    "collapsed": false,
    "jupyter": {
     "outputs_hidden": false
    }
   },
   "source": [
    "### 🧼 篩選特定屬性（Filter）"
   ]
  },
  {
   "cell_type": "code",
   "execution_count": null,
   "id": "a3553224851e468f",
   "metadata": {},
   "outputs": [],
   "source": [
    "\n",
    "# 篩選出電屬性的卡牌\n",
    "electric_cards = [card for card in deck if card[\"type\"] == \"電\"]\n",
    "print(\"電屬性的卡牌有：\")\n",
    "for card in electric_cards:\n",
    "    print(card)\n"
   ]
  },
  {
   "cell_type": "markdown",
   "id": "4db98ec2cd3388ad",
   "metadata": {
    "collapsed": false,
    "jupyter": {
     "outputs_hidden": false
    }
   },
   "source": [
    "\n",
    "## 🎯 小測驗：來挑戰你的 List 與 Dictionary 技能！\n",
    "\n",
    "請根據我們建立的 `deck` 卡組來回答以下問題：\n",
    "\n",
    "---\n",
    "\n",
    "### 1️⃣ 找出所有攻擊力大於 80 的卡牌\n",
    "\n",
    "請使用 `for` 迴圈或 List Comprehension，找出攻擊力超過 80 的寶可夢，並列出其名稱與攻擊力。\n"
   ]
  },
  {
   "cell_type": "code",
   "execution_count": null,
   "id": "a5c5101e08bfc201",
   "metadata": {},
   "outputs": [],
   "source": [
    "\n",
    "# TODO: 找出攻擊力超過 80 的卡牌\n",
    "# 請在此輸入你的程式碼\n"
   ]
  },
  {
   "cell_type": "markdown",
   "id": "7286e59e1155f208",
   "metadata": {
    "collapsed": false,
    "jupyter": {
     "outputs_hidden": false
    }
   },
   "source": [
    "\n",
    "---\n",
    "\n",
    "### 2️⃣ 統計不同屬性的卡牌數量\n",
    "\n",
    "請統計 `deck` 中每個屬性（type）有幾張卡牌。\n",
    "（提示：你可以使用 Dictionary 來統計）\n"
   ]
  },
  {
   "cell_type": "code",
   "execution_count": null,
   "id": "7b02c8b3e524899e",
   "metadata": {},
   "outputs": [],
   "source": [
    "\n",
    "# TODO: 統計各屬性的卡牌數量\n",
    "# 請在此輸入你的程式碼\n"
   ]
  },
  {
   "cell_type": "markdown",
   "id": "be8b105a7e7d84c9",
   "metadata": {
    "collapsed": false,
    "jupyter": {
     "outputs_hidden": false
    }
   },
   "source": [
    "\n",
    "---\n",
    "\n",
    "### 3️⃣ 印出卡組中所有卡牌的名稱清單（List）\n",
    "\n",
    "請建立一個只有寶可夢「名稱」的 List，並列印出來。\n"
   ]
  },
  {
   "cell_type": "code",
   "execution_count": null,
   "id": "3aa736a7d18a548b",
   "metadata": {},
   "outputs": [],
   "source": [
    "\n",
    "# TODO: 建立卡牌名稱的 List\n",
    "# 請在此輸入你的程式碼\n"
   ]
  },
  {
   "cell_type": "markdown",
   "id": "92a16f4510fcd8e7",
   "metadata": {
    "collapsed": false,
    "jupyter": {
     "outputs_hidden": false
    }
   },
   "source": [
    "\n",
    "## 4️⃣ 條件判斷（Conditional Statements）\n",
    "\n",
    "在寶可夢對戰中，如果對方是水屬性，我們就可能選擇電屬性來攻擊。\n",
    "這種「根據條件來決定要做什麼」的邏輯，在程式中就叫做 **條件判斷（if statements）**。\n"
   ]
  },
  {
   "cell_type": "markdown",
   "id": "a4f8bfdbc796d1d6",
   "metadata": {
    "collapsed": false,
    "jupyter": {
     "outputs_hidden": false
    }
   },
   "source": [
    "### 🧪 if 判斷式"
   ]
  },
  {
   "cell_type": "code",
   "execution_count": null,
   "id": "99aa7cf3e1ca50f2",
   "metadata": {},
   "outputs": [],
   "source": [
    "\n",
    "hp = 30\n",
    "\n",
    "if hp < 50:\n",
    "    print(\"HP 快沒了，需要補血！\")\n"
   ]
  },
  {
   "cell_type": "markdown",
   "id": "e302c0cca9a82618",
   "metadata": {
    "collapsed": false,
    "jupyter": {
     "outputs_hidden": false
    }
   },
   "source": [
    "### 🔁 if / else"
   ]
  },
  {
   "cell_type": "code",
   "execution_count": null,
   "id": "976377b68f2b0391",
   "metadata": {},
   "outputs": [],
   "source": [
    "\n",
    "attack = 70\n",
    "\n",
    "if attack >= 60:\n",
    "    print(\"這張卡攻擊力很高！\")\n",
    "else:\n",
    "    print(\"攻擊力普通。\")\n"
   ]
  },
  {
   "cell_type": "markdown",
   "id": "306616b790a3d5c6",
   "metadata": {
    "collapsed": false,
    "jupyter": {
     "outputs_hidden": false
    }
   },
   "source": [
    "### 🧭 if / elif / else 多重條件"
   ]
  },
  {
   "cell_type": "code",
   "execution_count": null,
   "id": "68afb4640e03a90c",
   "metadata": {},
   "outputs": [],
   "source": [
    "\n",
    "type = \"火\"\n",
    "\n",
    "if type == \"火\":\n",
    "    print(\"使用水屬性卡攻擊！\")\n",
    "elif type == \"草\":\n",
    "    print(\"使用火屬性卡攻擊！\")\n",
    "else:\n",
    "    print(\"使用普通攻擊。\")\n"
   ]
  },
  {
   "cell_type": "markdown",
   "id": "5c077c21c3819acb",
   "metadata": {
    "collapsed": false,
    "jupyter": {
     "outputs_hidden": false
    }
   },
   "source": [
    "\n",
    "### ⚖️ 比較運算子（Relational Operators）\n",
    "\n",
    "| 運算子 | 說明         |\n",
    "|--------|--------------|\n",
    "| `==`   | 等於         |\n",
    "| `!=`   | 不等於       |\n",
    "| `>`    | 大於         |\n",
    "| `<`    | 小於         |\n",
    "| `>=`   | 大於等於     |\n",
    "| `<=`   | 小於等於     |\n"
   ]
  },
  {
   "cell_type": "code",
   "execution_count": null,
   "id": "133bac8f-024c-4e6b-a491-877bfd2c09ca",
   "metadata": {},
   "outputs": [],
   "source": [
    "attack = 120\n",
    "if attack > 100:\n",
    "    print(\"這是傳說級攻擊！\")"
   ]
  },
  {
   "cell_type": "markdown",
   "id": "4e1df052f0398366",
   "metadata": {
    "collapsed": false,
    "jupyter": {
     "outputs_hidden": false
    }
   },
   "source": [
    "\n",
    "## 🎯 小測驗：條件判斷練習\n",
    "\n",
    "1️⃣ 如果卡牌攻擊力超過 80，印出「強力卡牌！」  \n",
    "2️⃣ 如果卡牌屬性是「電」，印出「可以克水屬性！」  \n",
    "3️⃣ 如果 HP 為 0，印出「寶可夢已倒下」，否則印出「還可以戰鬥」\n"
   ]
  },
  {
   "cell_type": "code",
   "execution_count": null,
   "id": "2bf010243d483f",
   "metadata": {},
   "outputs": [],
   "source": [
    "\n",
    "# TODO: 請在這裡完成你的判斷式挑戰\n"
   ]
  },
  {
   "cell_type": "markdown",
   "id": "b18e2a52",
   "metadata": {},
   "source": [
    "## 5️⃣ 迴圈：for 與 while\n",
    "\n",
    "在寶可夢卡牌管理中，當我們想要 **重複做同一件事情**，就會用到「迴圈」。\n",
    "\n",
    "Python 有兩種主要的迴圈：\n",
    "- `for` 迴圈：用來針對每個項目重複執行\n",
    "- `while` 迴圈：只要條件成立就一直執行"
   ]
  },
  {
   "cell_type": "markdown",
   "id": "b1a45a6f7999dd7b",
   "metadata": {
    "collapsed": false,
    "jupyter": {
     "outputs_hidden": false
    }
   },
   "source": [
    "### 🔂 5-1. 使用 for 逐張列出卡牌資訊"
   ]
  },
  {
   "cell_type": "code",
   "execution_count": null,
   "id": "587287b77bfe15b6",
   "metadata": {},
   "outputs": [],
   "source": [
    "\n",
    "deck = [\n",
    "    {\"name\": \"皮卡丘\", \"type\": \"電\", \"hp\": 35, \"attack\": 55},\n",
    "    {\"name\": \"妙蛙種子\", \"type\": \"草\", \"hp\": 45, \"attack\": 49},\n",
    "    {\"name\": \"小火龍\", \"type\": \"火\", \"hp\": 39, \"attack\": 52}\n",
    "]\n",
    "\n",
    "for card in deck:\n",
    "    print(f\"{card['name']} - 攻擊力：{card['attack']}\")\n"
   ]
  },
  {
   "cell_type": "markdown",
   "id": "122b53f9f2ce13e",
   "metadata": {
    "collapsed": false,
    "jupyter": {
     "outputs_hidden": false
    }
   },
   "source": [
    "### 🔁 5-2. 使用 while 模擬寶可夢戰鬥減血"
   ]
  },
  {
   "cell_type": "code",
   "execution_count": null,
   "id": "c5bdae23c3278941",
   "metadata": {},
   "outputs": [],
   "source": [
    "\n",
    "hp = 100\n",
    "damage = 15\n",
    "\n",
    "print(\"⚔️ 戰鬥開始！\")\n",
    "\n",
    "while hp > 0:\n",
    "    hp -= damage\n",
    "    print(\"受到攻擊，剩下 HP：\", hp)\n",
    "\n",
    "print(\"寶可夢倒下了 🥀\")\n"
   ]
  },
  {
   "cell_type": "markdown",
   "id": "4d2fa8db3147f769",
   "metadata": {
    "collapsed": false,
    "jupyter": {
     "outputs_hidden": false
    }
   },
   "source": [
    "### ⚠️ 小心無限迴圈"
   ]
  },
  {
   "cell_type": "code",
   "execution_count": null,
   "id": "3ac716f2966d8102",
   "metadata": {},
   "outputs": [],
   "source": [
    "\n",
    "# 無限迴圈的例子（請勿執行）\n",
    "# while True:\n",
    "#     print(\"這會永遠執行下去\")\n"
   ]
  },
  {
   "cell_type": "code",
   "execution_count": null,
   "id": "fd6fc56c-4424-4144-8013-671d562c46c6",
   "metadata": {},
   "outputs": [],
   "source": [
    "# while 迴圈：自動訓練皮卡丘\n",
    "training = 0\n",
    "while training < 3:\n",
    "    pikachu[\"attack\"] += 5\n",
    "    training += 1\n",
    "    print(f\"訓練第 {training} 次，攻擊力：{pikachu['attack']}\")"
   ]
  },
  {
   "cell_type": "markdown",
   "id": "82fcc2d06b5cf6b6",
   "metadata": {
    "collapsed": false,
    "jupyter": {
     "outputs_hidden": false
    }
   },
   "source": [
    "\n",
    "### 🔍 for vs while 比一比\n",
    "\n",
    "| for 迴圈                              | while 迴圈                           |\n",
    "|--------------------------------------|--------------------------------------|\n",
    "| 適合用來走訪清單、序列、範圍等        | 適合處理「不知道重複幾次」的情境     |\n",
    "| 用 `for x in y` 的語法簡潔明確        | 通常需要先初始化變數與寫條件         |\n",
    "| 例子：逐一印出卡組卡牌                 | 例子：當 HP > 0 就繼續扣血            |\n"
   ]
  },
  {
   "cell_type": "markdown",
   "id": "a1b1cbe30d9360ff",
   "metadata": {
    "collapsed": false,
    "jupyter": {
     "outputs_hidden": false
    }
   },
   "source": [
    "\n",
    "### 🧪 小挑戰：使用 for 和 while 實作以下任務！\n",
    "\n",
    "1️⃣ 使用 `for` 印出所有水屬性的寶可夢名稱  \n",
    "2️⃣ 使用 `while` 計算寶可夢每回合損血，直到 HP <= 0 為止  \n"
   ]
  },
  {
   "cell_type": "code",
   "execution_count": null,
   "id": "3084dcc76a79b308",
   "metadata": {},
   "outputs": [],
   "source": [
    "# TODO: 請在這裡完成你的挑戰練習"
   ]
  },
  {
   "cell_type": "markdown",
   "id": "251ed6e6fa1cf6b4",
   "metadata": {
    "collapsed": false,
    "jupyter": {
     "outputs_hidden": false
    }
   },
   "source": [
    "\n",
    "### ⛔ 使用 break 提前結束迴圈\n",
    "\n",
    "當我們找到某張卡牌後就不想繼續找下去，可以用 `break` 提早跳出迴圈。\n"
   ]
  },
  {
   "cell_type": "code",
   "execution_count": null,
   "id": "871010c8d5e209fb",
   "metadata": {},
   "outputs": [],
   "source": [
    "\n",
    "# 找出第一張攻擊力超過 50 的卡牌\n",
    "for card in deck:\n",
    "    if card[\"attack\"] > 50:\n",
    "        print(\"找到強力卡牌：\", card[\"name\"])\n",
    "        break\n"
   ]
  },
  {
   "cell_type": "markdown",
   "id": "e64d621ec38abd78",
   "metadata": {
    "collapsed": false,
    "jupyter": {
     "outputs_hidden": false
    }
   },
   "source": [
    "\n",
    "### ↩️ 使用 continue 跳過本次迴圈\n",
    "\n",
    "如果遇到某些條件不符合的卡牌，可以用 `continue` 跳過這一張。\n"
   ]
  },
  {
   "cell_type": "code",
   "execution_count": null,
   "id": "9e8c0019f83a608a",
   "metadata": {},
   "outputs": [],
   "source": [
    "\n",
    "# 印出除了草屬性以外的卡牌\n",
    "for card in deck:\n",
    "    if card[\"type\"] == \"草\":\n",
    "        continue\n",
    "    print(\"非草屬性卡牌：\", card[\"name\"])\n"
   ]
  },
  {
   "cell_type": "markdown",
   "id": "34e0cd179c98c906",
   "metadata": {
    "collapsed": false,
    "jupyter": {
     "outputs_hidden": false
    }
   },
   "source": [
    "\n",
    "### 🔄 巢狀迴圈（Nested Loops）\n",
    "\n",
    "當你要比對多張卡牌之間的關係時，可以用巢狀迴圈。\n",
    "\n",
    "以下範例列出所有卡牌的兩兩組合（不包含自己對自己）：\n"
   ]
  },
  {
   "cell_type": "code",
   "execution_count": null,
   "id": "b935e375b64ec048",
   "metadata": {},
   "outputs": [],
   "source": [
    "\n",
    "for i in range(len(deck)):\n",
    "    for j in range(len(deck)):\n",
    "        if i != j:\n",
    "            print(deck[i][\"name\"], \"對戰\", deck[j][\"name\"])\n"
   ]
  },
  {
   "cell_type": "code",
   "execution_count": null,
   "id": "6ca8fe09-e6d8-4d55-bc0a-89a66ce99ce8",
   "metadata": {},
   "outputs": [],
   "source": [
    "# 99乘法表 (大挑戰)\n",
    "for i in range(1, 10):\n",
    "    for j in range(1, 10):\n",
    "        print(f\"{j} x {i} = {i * j}\", end=\"\\t\")\n",
    "    print()  # 換行"
   ]
  },
  {
   "cell_type": "markdown",
   "id": "5e487bda-563f-4561-8030-4964b02c617c",
   "metadata": {},
   "source": [
    "🔍 說明：  \n",
    "-range(1, 10)：代表從 1 到 9（不含 10）  \n",
    "-end=\"\\t\"：讓每個乘法結果之間用 Tab 分隔，而不是自動換行  \n",
    "-print()：在每列完成後換行，形成三角形排列"
   ]
  },
  {
   "cell_type": "markdown",
   "id": "9ff71502124dbe37",
   "metadata": {
    "collapsed": false,
    "jupyter": {
     "outputs_hidden": false
    }
   },
   "source": [
    "\n",
    "## 6️⃣ 錯誤處理 Try / Except\n",
    "\n",
    "在寫程式的過程中，有時候我們會遇到錯誤（例如除以 0、找不到資料等），\n",
    "為了不讓程式整個當掉，我們可以使用 `try / except` 來「攔截錯誤」並提供備案處理。\n"
   ]
  },
  {
   "cell_type": "markdown",
   "id": "49b5ba205bc4538d",
   "metadata": {
    "collapsed": false,
    "jupyter": {
     "outputs_hidden": false
    }
   },
   "source": [
    "### ❗ 基本範例：除以 0"
   ]
  },
  {
   "cell_type": "code",
   "execution_count": null,
   "id": "3702182fa79315a9",
   "metadata": {},
   "outputs": [],
   "source": [
    "damage = 50\n",
    "turns = 0\n",
    "avg = damage / turns\n",
    "print(\"每回合平均傷害：\", avg)"
   ]
  },
  {
   "cell_type": "code",
   "execution_count": null,
   "id": "524dbb2c-522d-4dee-bc43-720e12c3a102",
   "metadata": {},
   "outputs": [],
   "source": [
    "try:\n",
    "    damage = 50\n",
    "    turns = 0\n",
    "    avg = damage / turns\n",
    "    print(\"每回合平均傷害：\", avg)\n",
    "except ZeroDivisionError:\n",
    "    print(\"錯誤：不能除以 0！請確認回合數不為 0。\")"
   ]
  },
  {
   "cell_type": "code",
   "execution_count": null,
   "id": "b9a3b171",
   "metadata": {},
   "outputs": [],
   "source": [
    "try:\n",
    "    add = int(input(\"你想幫皮卡丘加多少攻擊力？\"))\n",
    "    pikachu[\"attack\"] += add\n",
    "    print(\"加成後攻擊力：\", pikachu[\"attack\"])\n",
    "except:\n",
    "    print(\"請輸入正確的數字喔！\")\n"
   ]
  },
  {
   "cell_type": "markdown",
   "id": "94362f63392bb5d6",
   "metadata": {
    "collapsed": false,
    "jupyter": {
     "outputs_hidden": false
    }
   },
   "source": [
    "### 🛠️ 捕捉其他錯誤"
   ]
  },
  {
   "cell_type": "code",
   "execution_count": null,
   "id": "73ab50e2a489c5cc",
   "metadata": {},
   "outputs": [],
   "source": [
    "\n",
    "try:\n",
    "    card = {\"name\": \"皮卡丘\", \"attack\": 55}\n",
    "    print(\"HP 是：\", card[\"hp\"])  # 錯誤：沒有 hp 欄位\n",
    "except KeyError:\n",
    "    print(\"錯誤：找不到這個欄位 key！\")\n"
   ]
  },
  {
   "cell_type": "markdown",
   "id": "14453c374c453836",
   "metadata": {
    "collapsed": false,
    "jupyter": {
     "outputs_hidden": false
    }
   },
   "source": [
    "### ✅ 搭配 else 和 finally"
   ]
  },
  {
   "cell_type": "code",
   "execution_count": null,
   "id": "7451785e1ee339b7",
   "metadata": {},
   "outputs": [],
   "source": [
    "\n",
    "try:\n",
    "    hp = 100\n",
    "    damage = 20\n",
    "    hp -= damage\n",
    "except:\n",
    "    print(\"發生錯誤\")\n",
    "else:\n",
    "    print(\"扣血成功！剩下 HP：\", hp)\n",
    "finally:\n",
    "    print(\"戰鬥結束。\")\n"
   ]
  },
  {
   "cell_type": "markdown",
   "id": "318ac5d156cb6bf8",
   "metadata": {
    "collapsed": false,
    "jupyter": {
     "outputs_hidden": false
    }
   },
   "source": [
    "\n",
    "## 🎯 小測驗：Try / Except 實作挑戰\n",
    "\n",
    "請完成下列挑戰題：\n"
   ]
  },
  {
   "cell_type": "markdown",
   "id": "84f4b9082d5d7caf",
   "metadata": {
    "collapsed": false,
    "jupyter": {
     "outputs_hidden": false
    }
   },
   "source": [
    "### 1️⃣ 使用 try / except 處理輸入錯誤"
   ]
  },
  {
   "cell_type": "code",
   "execution_count": null,
   "id": "9b07d6ef3f7d9da",
   "metadata": {},
   "outputs": [],
   "source": [
    "\n",
    "# 輸入一個數字攻擊力，計算其平方\n",
    "# 如果使用者輸入的不是數字，請印出錯誤訊息\n",
    "# input(\"輸入格\")\n",
    "# TODO: 在這裡寫下你的程式碼\n"
   ]
  },
  {
   "cell_type": "markdown",
   "id": "b64fbecf57ecf68",
   "metadata": {
    "collapsed": false,
    "jupyter": {
     "outputs_hidden": false
    }
   },
   "source": [
    "### 2️⃣ 使用 try / except 防止 key 錯誤"
   ]
  },
  {
   "cell_type": "code",
   "execution_count": null,
   "id": "f065cd8712a3dcf1",
   "metadata": {},
   "outputs": [],
   "source": [
    "\n",
    "# 請從一張卡牌中印出 'type'，若沒有這個欄位請提示錯誤訊息\n",
    "\n",
    "# TODO: 在這裡寫下你的程式碼\n"
   ]
  },
  {
   "cell_type": "markdown",
   "id": "9022d3404fba97c3",
   "metadata": {
    "collapsed": false,
    "jupyter": {
     "outputs_hidden": false
    }
   },
   "source": [
    "\n",
    "## 7️⃣ 函式（Functions）\n",
    "\n",
    "在程式中，有時候我們會重複執行某段邏輯，這時就可以把它「包裝」成一個函式，\n",
    "讓我們可以重複使用、簡化程式、增加可讀性。\n",
    "\n",
    "函式就像是「寶可夢技能」，呼叫時傳入資料，它就會幫你處理完並回傳結果。\n"
   ]
  },
  {
   "cell_type": "markdown",
   "id": "56cb1d66f68ecc20",
   "metadata": {
    "collapsed": false,
    "jupyter": {
     "outputs_hidden": false
    }
   },
   "source": [
    "### 🛠️ 定義一個簡單函式"
   ]
  },
  {
   "cell_type": "code",
   "execution_count": null,
   "id": "62bd5b652a12d5c9",
   "metadata": {},
   "outputs": [],
   "source": [
    "# 向訓練家打招呼\n",
    "def greet_trainer(name):\n",
    "    print(\"你好，訓練家\", name + \"！\")\n",
    "\n",
    "greet_trainer(\"小智\")\n"
   ]
  },
  {
   "cell_type": "code",
   "execution_count": null,
   "id": "60d38c7a",
   "metadata": {},
   "outputs": [],
   "source": [
    "# 攻擊力提升\n",
    "\n",
    "def power_up(pokemon, amount):\n",
    "    pokemon[\"attack\"] += amount\n",
    "    print(f\"{pokemon['name']} 攻擊力提升為 {pokemon['attack']}\")\n",
    "\n",
    "power_up(pikachu, 10)\n"
   ]
  },
  {
   "cell_type": "code",
   "execution_count": null,
   "id": "b0223550-d4cb-49cf-a52c-151fde87b5ce",
   "metadata": {},
   "outputs": [],
   "source": [
    "# 複習\n",
    "def calculate_damage(base: int, multiplier: float) -> float:\n",
    "    return base * multiplier\n",
    "\n",
    "# 這表示：\n",
    "# base 是 int\n",
    "# multiplier 是 float\n",
    "# 回傳值是 float"
   ]
  },
  {
   "cell_type": "markdown",
   "id": "5cf1b4831cc676d3",
   "metadata": {
    "collapsed": false,
    "jupyter": {
     "outputs_hidden": false
    }
   },
   "source": [
    "### 📦 帶參數並回傳結果"
   ]
  },
  {
   "cell_type": "code",
   "execution_count": null,
   "id": "be1705d61a9b0918",
   "metadata": {},
   "outputs": [],
   "source": [
    "\n",
    "def calculate_damage(attack, multiplier):\n",
    "    return attack * multiplier\n",
    "\n",
    "damage = calculate_damage(50, 1.5)\n",
    "print(\"本次造成傷害：\", damage)\n"
   ]
  },
  {
   "cell_type": "markdown",
   "id": "ee6949994c0a3558",
   "metadata": {
    "collapsed": false,
    "jupyter": {
     "outputs_hidden": false
    }
   },
   "source": [
    "### ⚙️ 預設參數"
   ]
  },
  {
   "cell_type": "code",
   "execution_count": null,
   "id": "a36a1282b923a435",
   "metadata": {},
   "outputs": [],
   "source": [
    "\n",
    "def heal(hp, amount=20):\n",
    "    return hp + amount\n",
    "\n",
    "new_hp = heal(50)\n",
    "print(\"補血後 HP：\", new_hp)\n"
   ]
  },
  {
   "cell_type": "markdown",
   "id": "3bd1eba0b77bec8c",
   "metadata": {
    "collapsed": false,
    "jupyter": {
     "outputs_hidden": false
    }
   },
   "source": [
    "### 🧮 計算卡組總攻擊力"
   ]
  },
  {
   "cell_type": "code",
   "execution_count": null,
   "id": "3147d5ef027db671",
   "metadata": {},
   "outputs": [],
   "source": [
    "\n",
    "def total_attack(deck):\n",
    "    total = 0\n",
    "    for card in deck:\n",
    "        total += card[\"attack\"]\n",
    "    return total\n",
    "\n",
    "deck = [\n",
    "    {\"name\": \"皮卡丘\", \"attack\": 55},\n",
    "    {\"name\": \"小火龍\", \"attack\": 52},\n",
    "    {\"name\": \"妙蛙種子\", \"attack\": 49}\n",
    "]\n",
    "\n",
    "print(\"卡組總攻擊力：\", total_attack(deck))\n"
   ]
  },
  {
   "cell_type": "markdown",
   "id": "83bddf8fbbf041c9",
   "metadata": {
    "collapsed": false,
    "jupyter": {
     "outputs_hidden": false
    }
   },
   "source": [
    "\n",
    "## 🎯 小測驗：函式練習\n",
    "\n",
    "1️⃣ 定義一個函式 `is_strong(card)`，判斷卡牌攻擊力是否大於 60，並回傳布林值  \n",
    "2️⃣ 定義一個函式 `filter_type(deck, type)`，過濾出指定屬性的卡牌並回傳列表\n"
   ]
  },
  {
   "cell_type": "code",
   "execution_count": null,
   "id": "a3e427b323715718",
   "metadata": {},
   "outputs": [],
   "source": [
    "\n",
    "# TODO: 請在此完成你的函式練習\n"
   ]
  },
  {
   "cell_type": "markdown",
   "id": "81d094acbd7ccef3",
   "metadata": {
    "collapsed": false,
    "jupyter": {
     "outputs_hidden": false
    }
   },
   "source": [
    "\n",
    "## 🧰 Python 內建函式（Built-in Functions）\n",
    "\n",
    "Python 提供許多內建的函式可以直接使用，幫助我們完成常見任務，像是：\n",
    "\n",
    "- `abs()`：取得絕對值\n",
    "- `int()`、`float()`、`str()`：做型別轉換\n",
    "- `len()`：取得長度\n",
    "- `max()`、`min()`：找出最大或最小值\n",
    "- `sum()`：計算總和\n",
    "- `type()`：檢查型別\n"
   ]
  },
  {
   "cell_type": "markdown",
   "id": "93648021e285cba5",
   "metadata": {
    "collapsed": false,
    "jupyter": {
     "outputs_hidden": false
    }
   },
   "source": [
    "### `abs()` 絕對值"
   ]
  },
  {
   "cell_type": "code",
   "execution_count": null,
   "id": "bf57a83f0ffbd9bb",
   "metadata": {},
   "outputs": [],
   "source": [
    "\n",
    "damage = -40\n",
    "print(\"實際造成傷害：\", abs(damage))\n"
   ]
  },
  {
   "cell_type": "markdown",
   "id": "bf91a2c3760117e8",
   "metadata": {
    "collapsed": false,
    "jupyter": {
     "outputs_hidden": false
    }
   },
   "source": [
    "### 型別轉換函式 `int()`、`float()`、`str()`"
   ]
  },
  {
   "cell_type": "code",
   "execution_count": null,
   "id": "3f7edee016f0d598",
   "metadata": {},
   "outputs": [],
   "source": [
    "\n",
    "hp_str = \"80\"\n",
    "hp = int(hp_str)\n",
    "print(\"HP 加 20 後為：\", hp + 20)\n"
   ]
  },
  {
   "cell_type": "markdown",
   "id": "8c067429cd9803be",
   "metadata": {
    "collapsed": false,
    "jupyter": {
     "outputs_hidden": false
    }
   },
   "source": [
    "### `len()` 取得清單長度"
   ]
  },
  {
   "cell_type": "code",
   "execution_count": null,
   "id": "2057563b320c7af6",
   "metadata": {},
   "outputs": [],
   "source": [
    "\n",
    "deck = [\"皮卡丘\", \"小火龍\", \"妙蛙種子\"]\n",
    "print(\"卡組中有幾張卡？\", len(deck))\n"
   ]
  },
  {
   "cell_type": "markdown",
   "id": "dcc352edd1b56698",
   "metadata": {
    "collapsed": false,
    "jupyter": {
     "outputs_hidden": false
    }
   },
   "source": [
    "### `max()` 和 `min()`"
   ]
  },
  {
   "cell_type": "code",
   "execution_count": null,
   "id": "6ccf0435658d0f48",
   "metadata": {},
   "outputs": [],
   "source": [
    "\n",
    "attacks = [55, 52, 49, 80, 60]\n",
    "print(\"攻擊力最高：\", max(attacks))\n",
    "print(\"攻擊力最低：\", min(attacks))\n"
   ]
  },
  {
   "cell_type": "markdown",
   "id": "a2ad497bbab64d8a",
   "metadata": {
    "collapsed": false,
    "jupyter": {
     "outputs_hidden": false
    }
   },
   "source": [
    "### `sum()` 計算總和"
   ]
  },
  {
   "cell_type": "code",
   "execution_count": null,
   "id": "76c95d4754f1e296",
   "metadata": {},
   "outputs": [],
   "source": [
    "\n",
    "print(\"總攻擊力：\", sum(attacks))\n"
   ]
  },
  {
   "cell_type": "markdown",
   "id": "6bcf4a183d173462",
   "metadata": {
    "collapsed": false,
    "jupyter": {
     "outputs_hidden": false
    }
   },
   "source": [
    "### `type()` 檢查型別"
   ]
  },
  {
   "cell_type": "code",
   "execution_count": null,
   "id": "bb9c079a59277788",
   "metadata": {},
   "outputs": [],
   "source": [
    "del type\n",
    "name = \"妙蛙種子\"\n",
    "print(\"型別為：\", type(name))\n"
   ]
  },
  {
   "cell_type": "markdown",
   "id": "c016ba74958f5097",
   "metadata": {
    "collapsed": false,
    "jupyter": {
     "outputs_hidden": false
    }
   },
   "source": [
    "\n",
    "## 🎯 小測驗：Built-in 函式應用練習\n",
    "\n",
    "1️⃣ 請將一個字串數字 `\"120\"` 轉為 `int` 加80後印出。  \n",
    "2️⃣ 有一組攻擊力清單，請算出最大、最小、總和與平均攻擊力（平均需用 `sum()` 和 `len()` 計算）。\n"
   ]
  },
  {
   "cell_type": "code",
   "execution_count": null,
   "id": "c11cc1b34cf2e409",
   "metadata": {},
   "outputs": [],
   "source": [
    "\n",
    "# TODO: 請在此完成你的內建函式練習\n",
    "attacks = [55, 52, 36, 80, 60, 100, 200]\n"
   ]
  },
  {
   "cell_type": "markdown",
   "id": "af2fe87df0bece96",
   "metadata": {
    "collapsed": false,
    "jupyter": {
     "outputs_hidden": false
    }
   },
   "source": [
    "\n",
    "## 8️⃣ 物件導向程式設計：OOP（Object-Oriented Programming）\n",
    "\n",
    "在 Python 中，我們可以用「類別（class）」來定義寶可夢的樣子，用「物件（object）」來創造每一隻寶可夢實體。\n",
    "\n",
    "這就像是你先有一張「卡牌模板」，再根據它印出多張不同的卡牌！\n"
   ]
  },
  {
   "cell_type": "code",
   "execution_count": null,
   "id": "38af094d",
   "metadata": {
    "ExecuteTime": {
     "end_time": "2025-06-22T23:12:15.492511Z",
     "start_time": "2025-06-22T23:12:15.471510Z"
    }
   },
   "outputs": [],
   "source": [
    "class PokemonCard:\n",
    "    def __init__(self, name, ptype, hp, attack):\n",
    "        self.name = name\n",
    "        self.ptype = ptype\n",
    "        self.hp = hp\n",
    "        self.attack = attack\n",
    "\n",
    "    def show(self):\n",
    "        print(f\"{self.name}（{self.ptype}） - HP:{self.hp}, 攻擊:{self.attack}\")\n",
    "\n",
    "    def train(self, power):\n",
    "        self.attack += power\n",
    "        print(f\"{self.name} 的攻擊力上升到 {self.attack}\")\n",
    "\n",
    "pikachu_card = PokemonCard(\"皮卡丘\", \"電\", 35, 55)\n",
    "pikachu_card.show()\n",
    "pikachu_card.train(10)\n"
   ]
  },
  {
   "cell_type": "markdown",
   "id": "218d3888cfa4137f",
   "metadata": {
    "collapsed": false,
    "jupyter": {
     "outputs_hidden": false
    }
   },
   "source": [
    "### 🔧 定義一個寶可夢類別（Class）"
   ]
  },
  {
   "cell_type": "code",
   "execution_count": null,
   "id": "7ab042fe5691d385",
   "metadata": {},
   "outputs": [],
   "source": [
    "\n",
    "class Pokemon:\n",
    "    def __init__(self, name, type, hp, attack):\n",
    "        self.name = name\n",
    "        self.type = type\n",
    "        self.hp = hp\n",
    "        self.attack = attack\n",
    "\n",
    "    def attack_target(self, target):\n",
    "        target.hp -= self.attack\n",
    "        print(f\"{self.name} 攻擊了 {target.name}！{target.name} 的 HP 現在是 {target.hp}\")\n"
   ]
  },
  {
   "cell_type": "markdown",
   "id": "d59e2a2439cce67",
   "metadata": {
    "collapsed": false,
    "jupyter": {
     "outputs_hidden": false
    }
   },
   "source": [
    "### 🧪 建立寶可夢物件（Object）並進行攻擊"
   ]
  },
  {
   "cell_type": "code",
   "execution_count": null,
   "id": "71265cf0b0059f22",
   "metadata": {},
   "outputs": [],
   "source": [
    "\n",
    "pikachu = Pokemon(\"皮卡丘\", \"電\", 100, 30)\n",
    "squirtle = Pokemon(\"傑尼龜\", \"水\", 80, 20)\n",
    "\n",
    "pikachu.attack_target(squirtle)\n"
   ]
  },
  {
   "cell_type": "markdown",
   "id": "a4db10d5b49a3086",
   "metadata": {
    "collapsed": false,
    "jupyter": {
     "outputs_hidden": false
    }
   },
   "source": [
    "### 🧬 類別繼承（Class Inheritance）"
   ]
  },
  {
   "cell_type": "code",
   "execution_count": null,
   "id": "9c267c03827e4209",
   "metadata": {},
   "outputs": [],
   "source": [
    "\n",
    "class FirePokemon(Pokemon):\n",
    "    def flame_attack(self, target):\n",
    "        damage = self.attack + 10\n",
    "        target.hp -= damage\n",
    "        print(f\"{self.name} 使用火焰攻擊 {target.name}！造成 {damage} 傷害，{target.name} 剩下 {target.hp} HP\")\n",
    "\n",
    "charizard = FirePokemon(\"噴火龍\", \"火\", 120, 40)\n",
    "charizard.flame_attack(pikachu)\n"
   ]
  },
  {
   "cell_type": "markdown",
   "id": "7ab2b4d6cd2c8ad0",
   "metadata": {
    "collapsed": false,
    "jupyter": {
     "outputs_hidden": false
    }
   },
   "source": [
    "\n",
    "## 🎯 小測驗：OOP 挑戰\n",
    "\n",
    "1️⃣ 請定義一個名為 `WaterPokemon` 的子類別，加入一個 `water_gun` 方法，造成攻擊力 + 5 的傷害  \n",
    "2️⃣ 創建一隻水屬性寶可夢並攻擊一隻火屬性寶可夢  \n"
   ]
  },
  {
   "cell_type": "code",
   "execution_count": null,
   "id": "992803c7d2dfe5bb",
   "metadata": {},
   "outputs": [],
   "source": [
    "\n",
    "# TODO: 請在此完成你的 OOP 小測驗\n"
   ]
  },
  {
   "cell_type": "code",
   "execution_count": null,
   "id": "34f54cbf-d735-4213-a8f9-a3fda5e65183",
   "metadata": {},
   "outputs": [],
   "source": [
    "# 解答"
   ]
  },
  {
   "cell_type": "code",
   "execution_count": null,
   "id": "237ed66c-bc9e-4048-8aaf-0fec9cf48a20",
   "metadata": {},
   "outputs": [],
   "source": []
  }
 ],
 "metadata": {
  "kernelspec": {
   "display_name": "Python 3 (ipykernel)",
   "language": "python",
   "name": "python3"
  },
  "language_info": {
   "codemirror_mode": {
    "name": "ipython",
    "version": 3
   },
   "file_extension": ".py",
   "mimetype": "text/x-python",
   "name": "python",
   "nbconvert_exporter": "python",
   "pygments_lexer": "ipython3",
   "version": "3.9.13"
  }
 },
 "nbformat": 4,
 "nbformat_minor": 5
}
